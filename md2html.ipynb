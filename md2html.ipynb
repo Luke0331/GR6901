{
 "cells": [
  {
   "cell_type": "code",
   "execution_count": 2,
   "id": "e22a92c3-bed2-4291-a2dd-a02cee8b278c",
   "metadata": {},
   "outputs": [],
   "source": [
    "import markdown\n",
    "\n",
    "# html = markdown.markdownFromFile('why_python.md')\n",
    "\n",
    "md = markdown.Markdown()\n",
    "with open(\"why_python.md\", \"r\", encoding=\"utf-8\") as input_file:\n",
    "    text = input_file.read()\n",
    "html = md.convert(text)"
   ]
  },
  {
   "cell_type": "code",
   "execution_count": 3,
   "id": "76ae9958-1df9-454b-9309-476e3df38e87",
   "metadata": {},
   "outputs": [
    {
     "data": {
      "text/plain": [
       "'<h1>Why Python?</h1>\\n<p>You\\'re already here because you want to learn to use Python for your data analysis and visualizations.</p>\\n<p><strong>Perhaps the #1 reason to use Python is because it is so widely used in the scientific community!</strong></p>\\n<p>Python can be compared to other high-level, interpreted, object-oriented languages, but is especially great because it is free and open source!</p>\\n<p>Want to know what these terms mean for you and your work? Read on!</p>\\n<h2>High level languages</h2>\\n<p>Other high level languages include MatLab, IDL, and NCL. The advantage of high level languages is that they provide built-in functions, data structures, and other utilities that are commonly used, which means it takes less code to get real work done. The disadvantage of high level languages is that they tend to obscure the low level aspects of the machine such as memory use, how many floating point operations are happening, and other information related to performance. C, C++, and Fortran are all examples of lower level languages. The \"higher\" the level of language, the more computing fundamentals are abstracted.</p>\\n<h2>Interpreted languages</h2>\\n<p>Most of your work is probably already in interpreted languages if you\\'ve ever used IDL, NCL, or MatLab (interpreted languages are typically also high level). So you are already familiar with the advantages of this: you don\\'t have to worry about compiling or machine compatibility (it is portable). And you are probably familiar with their deficiencies: sometimes they can be slower than compiled languages and potentially more memory intensive.</p>\\n<h2>Object Oriented languages</h2>\\n<p>Objects are custom datatypes. For every custom datatype, you usually have a set of operations you might want to conduct. For example, if you have an object that is a list of numbers, you might want to apply a mathematical operation, such as sum, onto this list object in bulk. Not every function can be applied to every datatype; it wouldn\\'t make sense to apply a logarithm to a string of letters or to capitalize a list of numbers. Data and the operations applied to them are grouped together into one object.</p>\\n<h2>Open source</h2>\\n<p>Python as a language is open source, which means that there is a community of developers behind its codebase. Anyone can join the developer community and contribute to deciding the future of the language. When someone identifies gaps in Python\\'s abilities, they can write up the code to fill these gaps. The open source nature of Python means that Python as a language is very adaptable to the shifting needs of the user community. This harkens back to the idea that the widespread use of Python within the scientific community is a benefit to you! The large Python user base within your field has established high level community Python packages that are available to you in your workflow.</p>\\n<p>Python is a language designed for rapid prototyping and efficient programming. It is easy to write new code quickly with less typing.</p>'"
      ]
     },
     "execution_count": 3,
     "metadata": {},
     "output_type": "execute_result"
    }
   ],
   "source": [
    "html"
   ]
  },
  {
   "cell_type": "code",
   "execution_count": null,
   "id": "0579689b-b5b7-4213-95b1-4c8475ed0e6b",
   "metadata": {},
   "outputs": [],
   "source": []
  }
 ],
 "metadata": {
  "kernelspec": {
   "display_name": "Python 3 (ipykernel)",
   "language": "python",
   "name": "python3"
  },
  "language_info": {
   "codemirror_mode": {
    "name": "ipython",
    "version": 3
   },
   "file_extension": ".py",
   "mimetype": "text/x-python",
   "name": "python",
   "nbconvert_exporter": "python",
   "pygments_lexer": "ipython3",
   "version": "3.12.4"
  }
 },
 "nbformat": 4,
 "nbformat_minor": 5
}
